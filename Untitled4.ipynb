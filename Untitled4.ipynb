{
  "nbformat": 4,
  "nbformat_minor": 0,
  "metadata": {
    "colab": {
      "provenance": [],
      "authorship_tag": "ABX9TyMud6nr+oUBsjnlEUi40fMa",
      "include_colab_link": true
    },
    "kernelspec": {
      "name": "python3",
      "display_name": "Python 3"
    },
    "language_info": {
      "name": "python"
    }
  },
  "cells": [
    {
      "cell_type": "markdown",
      "metadata": {
        "id": "view-in-github",
        "colab_type": "text"
      },
      "source": [
        "<a href=\"https://colab.research.google.com/github/AlisaPi2/Task_6.5/blob/main/Untitled4.ipynb\" target=\"_parent\"><img src=\"https://colab.research.google.com/assets/colab-badge.svg\" alt=\"Open In Colab\"/></a>"
      ]
    },
    {
      "cell_type": "code",
      "execution_count": 6,
      "metadata": {
        "colab": {
          "base_uri": "https://localhost:8080/",
          "height": 106
        },
        "id": "NTF5xvtDR989",
        "outputId": "92c89366-5060-4146-bdd1-1b8657b94787"
      },
      "outputs": [
        {
          "output_type": "error",
          "ename": "SyntaxError",
          "evalue": "unterminated string literal (detected at line 6) (<ipython-input-6-4df55a8ccb25>, line 6)",
          "traceback": [
            "\u001b[0;36m  File \u001b[0;32m\"<ipython-input-6-4df55a8ccb25>\"\u001b[0;36m, line \u001b[0;32m6\u001b[0m\n\u001b[0;31m    return f\"Min = '{min_line.strip()}', Max =\u001b[0m\n\u001b[0m           ^\u001b[0m\n\u001b[0;31mSyntaxError\u001b[0m\u001b[0;31m:\u001b[0m unterminated string literal (detected at line 6)\n"
          ]
        }
      ],
      "source": [
        "def min_max_line(file_name):\n",
        "  with open(file_name, 'r') as file:\n",
        "    lines = file.readlines()\n",
        "    min_line = min(lines, key=len)\n",
        "    max_line = max(lines, key=len)\n",
        "    return f\"Min = '{min_line.strip()}', Max =\n",
        "'{max_line.strip()}'\"\n"
      ]
    }
  ]
}